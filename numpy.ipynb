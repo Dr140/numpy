{
 "cells": [
  {
   "cell_type": "code",
   "execution_count": 5,
   "id": "81945bde-8958-488f-9af3-28809d57a9a5",
   "metadata": {},
   "outputs": [
    {
     "name": "stdout",
     "output_type": "stream",
     "text": [
      "Requirement already satisfied: numpy in /opt/anaconda3/lib/python3.12/site-packages (1.26.4)\n"
     ]
    }
   ],
   "source": [
    "!pip install numpy"
   ]
  },
  {
   "cell_type": "code",
   "execution_count": 8,
   "id": "75ff12b6-845d-441c-8304-ebe3671b7054",
   "metadata": {},
   "outputs": [
    {
     "name": "stdout",
     "output_type": "stream",
     "text": [
      "[1 2 3]\n"
     ]
    }
   ],
   "source": [
    "import numpy as np\n",
    "a=np.array([1,2,3])\n",
    "print(a)"
   ]
  },
  {
   "cell_type": "code",
   "execution_count": 10,
   "id": "3a5b904a-a947-4f80-81fd-04db9c5258a4",
   "metadata": {},
   "outputs": [
    {
     "name": "stdout",
     "output_type": "stream",
     "text": [
      "[[1 2 3]\n",
      " [4 5 6]]\n"
     ]
    }
   ],
   "source": [
    "#2D\n",
    "a=np.array([(1,2,3),(4,5,6)])\n",
    "print(a)"
   ]
  },
  {
   "cell_type": "code",
   "execution_count": 12,
   "id": "df86a0bd-d938-42fe-814a-da6c1eb43c31",
   "metadata": {},
   "outputs": [
    {
     "name": "stdout",
     "output_type": "stream",
     "text": [
      "[[1 2 3]\n",
      " [4 5 6]\n",
      " [7 8 9]]\n"
     ]
    }
   ],
   "source": [
    "#3d\n",
    "a=np.array([(1,2,3),(4,5,6),(7,8,9)])\n",
    "print(a)"
   ]
  },
  {
   "cell_type": "code",
   "execution_count": 14,
   "id": "67bc2a74-443c-44b6-b49e-ad43a557d229",
   "metadata": {},
   "outputs": [
    {
     "data": {
      "text/plain": [
       "array([[0., 0.]])"
      ]
     },
     "execution_count": 14,
     "metadata": {},
     "output_type": "execute_result"
    }
   ],
   "source": [
    "#initial place holders\n",
    "#2D\n",
    "np.zeros((1,2))"
   ]
  },
  {
   "cell_type": "code",
   "execution_count": 16,
   "id": "c6990f26-04c4-409a-a126-3a05c3ded145",
   "metadata": {},
   "outputs": [
    {
     "data": {
      "text/plain": [
       "array([[[0., 0., 0.],\n",
       "        [0., 0., 0.]]])"
      ]
     },
     "execution_count": 16,
     "metadata": {},
     "output_type": "execute_result"
    }
   ],
   "source": [
    "np.zeros((1,2,3))"
   ]
  },
  {
   "cell_type": "code",
   "execution_count": 40,
   "id": "b0049df7-f48c-4a91-946d-aa71a8c36e13",
   "metadata": {},
   "outputs": [
    {
     "name": "stdout",
     "output_type": "stream",
     "text": [
      "[10 13 16 19 22]\n"
     ]
    }
   ],
   "source": [
    "#create an array of evenly spaced values(stepvalues)\n",
    "a = np.arange(10,25,3)\n",
    "print(a)"
   ]
  },
  {
   "cell_type": "code",
   "execution_count": 34,
   "id": "b6687144-0ed7-4873-b2b7-f42d475d67e6",
   "metadata": {},
   "outputs": [
    {
     "name": "stdout",
     "output_type": "stream",
     "text": [
      "[110.         106.66666667 103.33333333 100.          96.66666667\n",
      "  93.33333333  90.          86.66666667  83.33333333  80.        ]\n"
     ]
    }
   ],
   "source": [
    "#array of evenly spaced values\n",
    "uni = np.linspace(110,80,10)\n",
    "print(uni)"
   ]
  },
  {
   "cell_type": "code",
   "execution_count": 38,
   "id": "d3224ba3-2596-4cbb-9165-c58d6f725dff",
   "metadata": {},
   "outputs": [
    {
     "name": "stdout",
     "output_type": "stream",
     "text": [
      "[[[3 5 6]\n",
      "  [4 6 7]]\n",
      "\n",
      " [[3 5 6]\n",
      "  [4 6 7]]\n",
      "\n",
      " [[6 6 4]\n",
      "  [4 8 9]]]\n"
     ]
    }
   ],
   "source": [
    "a = np.array([[[3,5,6],[4,6,7]],\n",
    "              [[3,5,6],[4,6,7]],\n",
    "              [[6,6,4],[4,8,9]]])\n",
    "print(a)"
   ]
  },
  {
   "cell_type": "code",
   "execution_count": 42,
   "id": "3753e10c-96ee-4cfd-b282-99dc5b5d7011",
   "metadata": {},
   "outputs": [
    {
     "name": "stdout",
     "output_type": "stream",
     "text": [
      "[[[ 1  5]\n",
      "  [ 8 19]]\n",
      "\n",
      " [[35 52]\n",
      "  [80 90]]]\n"
     ]
    }
   ],
   "source": [
    "import numpy as np\n",
    "a = np.array([[[1,5],[8,19]],[[35,52],[80,90]]])\n",
    "print(a)"
   ]
  },
  {
   "cell_type": "code",
   "execution_count": 44,
   "id": "1d35885b-9224-418a-8f9b-0dd094811dda",
   "metadata": {},
   "outputs": [
    {
     "name": "stdout",
     "output_type": "stream",
     "text": [
      "[[9 0]\n",
      " [9 0]]\n"
     ]
    }
   ],
   "source": [
    "a = np.array([[9,0],[9,0]])\n",
    "print(a)"
   ]
  },
  {
   "cell_type": "code",
   "execution_count": 46,
   "id": "5848a84b-1a7a-46a0-966c-05646b9d2d90",
   "metadata": {},
   "outputs": [
    {
     "name": "stdout",
     "output_type": "stream",
     "text": [
      "[[[30 40]\n",
      "  [90 40]]\n",
      "\n",
      " [[30 30]\n",
      "  [60 60]]]\n"
     ]
    },
    {
     "data": {
      "text/plain": [
       "3"
      ]
     },
     "execution_count": 46,
     "metadata": {},
     "output_type": "execute_result"
    }
   ],
   "source": [
    "a = np.array([[[30,40],[90,40]],[[30,30],[60,60]]])\n",
    "print(a)\n",
    "a.ndim"
   ]
  },
  {
   "cell_type": "code",
   "execution_count": 48,
   "id": "5d94247c-94a8-4f26-b31e-61d87f2e0409",
   "metadata": {},
   "outputs": [
    {
     "data": {
      "text/plain": [
       "array([[[ 8,  5],\n",
       "        [ 0,  3]],\n",
       "\n",
       "       [[ 1, 11],\n",
       "        [16,  7]]])"
      ]
     },
     "execution_count": 48,
     "metadata": {},
     "output_type": "execute_result"
    }
   ],
   "source": [
    "#creating random arrays\n",
    "np.random.randint([[[10,20],[2,6]],[[30,40],[20,10]]])"
   ]
  },
  {
   "cell_type": "code",
   "execution_count": 50,
   "id": "74470beb-83f3-42dd-bef9-9f7190877832",
   "metadata": {},
   "outputs": [
    {
     "data": {
      "text/plain": [
       "array([[0.45893277, 0.80507523, 0.99440761, 0.47670238, 0.95372598,\n",
       "        0.04132942, 0.64875421, 0.54373024],\n",
       "       [0.70590765, 0.4094656 , 0.0586604 , 0.98470781, 0.70972713,\n",
       "        0.67242509, 0.65853816, 0.56431741],\n",
       "       [0.67841203, 0.83893147, 0.53324107, 0.99531971, 0.98720289,\n",
       "        0.92381606, 0.90613646, 0.03263664],\n",
       "       [0.31595881, 0.45860767, 0.65595915, 0.29731078, 0.3704855 ,\n",
       "        0.31344613, 0.93684672, 0.71202708],\n",
       "       [0.16925895, 0.05057274, 0.79665017, 0.20259256, 0.01693029,\n",
       "        0.7540068 , 0.45204178, 0.92817805],\n",
       "       [0.2558698 , 0.30198627, 0.9758742 , 0.12988901, 0.99780019,\n",
       "        0.76214788, 0.60257308, 0.18378909]])"
      ]
     },
     "execution_count": 50,
     "metadata": {},
     "output_type": "execute_result"
    }
   ],
   "source": [
    "#creating random arrays\n",
    "np.random.random((6,8))"
   ]
  },
  {
   "cell_type": "code",
   "execution_count": 58,
   "id": "d302e344-1f0c-4075-990b-d54e2f08873d",
   "metadata": {},
   "outputs": [
    {
     "name": "stdout",
     "output_type": "stream",
     "text": [
      "[5 5]\n"
     ]
    }
   ],
   "source": [
    "a=np.full((2),5)\n",
    "print(a)"
   ]
  },
  {
   "cell_type": "code",
   "execution_count": 62,
   "id": "9315ef38-872b-43d8-a974-c3f83ffbf162",
   "metadata": {},
   "outputs": [
    {
     "name": "stdout",
     "output_type": "stream",
     "text": [
      "[[5 5 5 5 5 5 5 5 5 5 5 5 5 5 5 5 5 5 5 5]\n",
      " [5 5 5 5 5 5 5 5 5 5 5 5 5 5 5 5 5 5 5 5]\n",
      " [5 5 5 5 5 5 5 5 5 5 5 5 5 5 5 5 5 5 5 5]\n",
      " [5 5 5 5 5 5 5 5 5 5 5 5 5 5 5 5 5 5 5 5]\n",
      " [5 5 5 5 5 5 5 5 5 5 5 5 5 5 5 5 5 5 5 5]\n",
      " [5 5 5 5 5 5 5 5 5 5 5 5 5 5 5 5 5 5 5 5]\n",
      " [5 5 5 5 5 5 5 5 5 5 5 5 5 5 5 5 5 5 5 5]\n",
      " [5 5 5 5 5 5 5 5 5 5 5 5 5 5 5 5 5 5 5 5]\n",
      " [5 5 5 5 5 5 5 5 5 5 5 5 5 5 5 5 5 5 5 5]\n",
      " [5 5 5 5 5 5 5 5 5 5 5 5 5 5 5 5 5 5 5 5]]\n"
     ]
    }
   ],
   "source": [
    "a = np.full((10,20),5)\n",
    "print(a)"
   ]
  },
  {
   "cell_type": "code",
   "execution_count": 64,
   "id": "977a0578-81af-46bb-b816-2ccb8cb39350",
   "metadata": {},
   "outputs": [
    {
     "name": "stdout",
     "output_type": "stream",
     "text": [
      "[[[6 6 6 6]\n",
      "  [6 6 6 6]\n",
      "  [6 6 6 6]]\n",
      "\n",
      " [[6 6 6 6]\n",
      "  [6 6 6 6]\n",
      "  [6 6 6 6]]]\n"
     ]
    }
   ],
   "source": [
    "a=np.full((2,3,4),6)\n",
    "print(a)"
   ]
  },
  {
   "cell_type": "code",
   "execution_count": 74,
   "id": "f2dd2154-2797-4422-ae4c-17244447da6f",
   "metadata": {},
   "outputs": [
    {
     "name": "stdout",
     "output_type": "stream",
     "text": [
      "[[[ 3  4]\n",
      "  [50  4]]\n",
      "\n",
      " [[30  3]\n",
      "  [75  6]]]\n",
      "(2, 2, 2)\n"
     ]
    }
   ],
   "source": [
    "#shape of an array\n",
    "a = np.array([\n",
    "    [[3,4],[50,4]],\n",
    "    [[30,3],[75,6]]\n",
    "    ])\n",
    "print(a)\n",
    "print(a.shape)"
   ]
  },
  {
   "cell_type": "code",
   "execution_count": 76,
   "id": "93b6d574-3e4d-40dc-9332-907070a97481",
   "metadata": {},
   "outputs": [
    {
     "name": "stdout",
     "output_type": "stream",
     "text": [
      "[[[ 3  4]\n",
      "  [50  4]]\n",
      "\n",
      " [[30  3]\n",
      "  [75  6]]]\n",
      "8\n"
     ]
    }
   ],
   "source": [
    "#size of an array\n",
    "a = np.array([\n",
    "    [[3,4],[50,4]],\n",
    "    [[30,3],[75,6]]\n",
    "    ])\n",
    "print(a)\n",
    "print(a.size)"
   ]
  },
  {
   "cell_type": "code",
   "execution_count": 78,
   "id": "ba3d19f3-a1fb-4330-8701-3ead05863ede",
   "metadata": {},
   "outputs": [
    {
     "name": "stdout",
     "output_type": "stream",
     "text": [
      "[[[ 3  4]\n",
      "  [50  4]]\n",
      "\n",
      " [[30  3]\n",
      "  [75  6]]]\n"
     ]
    },
    {
     "data": {
      "text/plain": [
       "2"
      ]
     },
     "execution_count": 78,
     "metadata": {},
     "output_type": "execute_result"
    }
   ],
   "source": [
    "#len of an array\n",
    "a = np.array([\n",
    "    [[3,4],[50,4]],\n",
    "    [[30,3],[75,6]]\n",
    "    ])\n",
    "print(a)\n",
    "len(a)"
   ]
  },
  {
   "cell_type": "code",
   "execution_count": null,
   "id": "f496bd2d-47d6-463a-b30a-ea29f0116c9f",
   "metadata": {},
   "outputs": [],
   "source": []
  }
 ],
 "metadata": {
  "kernelspec": {
   "display_name": "Python 3 (ipykernel)",
   "language": "python",
   "name": "python3"
  },
  "language_info": {
   "codemirror_mode": {
    "name": "ipython",
    "version": 3
   },
   "file_extension": ".py",
   "mimetype": "text/x-python",
   "name": "python",
   "nbconvert_exporter": "python",
   "pygments_lexer": "ipython3",
   "version": "3.12.4"
  }
 },
 "nbformat": 4,
 "nbformat_minor": 5
}
