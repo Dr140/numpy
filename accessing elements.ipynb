{
 "cells": [
  {
   "cell_type": "code",
   "execution_count": 2,
   "id": "0994cc76-758f-4b33-85cf-b75b999487bf",
   "metadata": {},
   "outputs": [
    {
     "name": "stdout",
     "output_type": "stream",
     "text": [
      "6\n"
     ]
    }
   ],
   "source": [
    "import numpy as np\n",
    "#accessing array with index position\n",
    "arr = np.array([3,6,8,9])\n",
    "print(arr[1])"
   ]
  },
  {
   "cell_type": "code",
   "execution_count": 4,
   "id": "658d8efe-a2ac-4211-a5bf-462b99b22276",
   "metadata": {},
   "outputs": [
    {
     "name": "stdout",
     "output_type": "stream",
     "text": [
      "1\n"
     ]
    }
   ],
   "source": [
    "#Add \n",
    "arr = np.array([3,6,8,9])\n",
    "print(arr[1]+arr[0]-arr[2])"
   ]
  },
  {
   "cell_type": "code",
   "execution_count": 18,
   "id": "0a684d5e-4fcd-4a2a-9df9-8db5124671aa",
   "metadata": {},
   "outputs": [
    {
     "name": "stdout",
     "output_type": "stream",
     "text": [
      "9\n",
      "600\n"
     ]
    }
   ],
   "source": [
    "#access\n",
    "arr = np.array([[[1,2,3],[4,5,6]],[[7,8,9],[10,11,12]]])\n",
    "print(arr[1,0,2])\n",
    "\n",
    "xyz = np.array([[[100,200,300],[400,500,600]],[[700,800,900],[150,250,350]]])\n",
    "print(xyz[0,1,2])"
   ]
  },
  {
   "cell_type": "code",
   "execution_count": 20,
   "id": "c7ea2dec-b693-4ead-97cc-b7a4c83663a2",
   "metadata": {},
   "outputs": [
    {
     "name": "stdout",
     "output_type": "stream",
     "text": [
      "[b'1' b'2' b'3' b'4']\n",
      "|S1\n"
     ]
    }
   ],
   "source": [
    "#string\n",
    "arr = np.array([1,2,3,4],dtype = 'S')\n",
    "print(arr)\n",
    "print(arr.dtype)"
   ]
  },
  {
   "cell_type": "code",
   "execution_count": 22,
   "id": "2e216749-3722-4a95-9960-13785dac4f89",
   "metadata": {},
   "outputs": [
    {
     "name": "stdout",
     "output_type": "stream",
     "text": [
      "[1 2 3 4]\n",
      "int32\n"
     ]
    }
   ],
   "source": [
    "#int\n",
    "arr = np.array([1,2,3,4],dtype = 'i')\n",
    "print(arr)\n",
    "print(arr.dtype)"
   ]
  },
  {
   "cell_type": "code",
   "execution_count": 24,
   "id": "0df3cdd3-3545-47c2-b34e-e4484b113f95",
   "metadata": {},
   "outputs": [
    {
     "name": "stdout",
     "output_type": "stream",
     "text": [
      "[1. 2. 3. 4.]\n",
      "float32\n"
     ]
    }
   ],
   "source": [
    "#float\n",
    "arr = np.array([1,2,3,4],dtype = 'f')\n",
    "print(arr)\n",
    "print(arr.dtype)"
   ]
  },
  {
   "cell_type": "code",
   "execution_count": 26,
   "id": "e1b8a767-c1d2-4a75-919b-90528847fff0",
   "metadata": {},
   "outputs": [
    {
     "name": "stdout",
     "output_type": "stream",
     "text": [
      "[1 2 3 4]\n",
      "int8\n"
     ]
    }
   ],
   "source": [
    "#bool\n",
    "arr = np.array([1,2,3,4],dtype = 'b')\n",
    "print(arr)\n",
    "print(arr.dtype)"
   ]
  },
  {
   "cell_type": "code",
   "execution_count": 28,
   "id": "8835e975-7042-40c2-994a-c4e642d5886f",
   "metadata": {},
   "outputs": [
    {
     "name": "stdout",
     "output_type": "stream",
     "text": [
      "[[1 2 3]\n",
      " [4 5 6]]\n",
      "float64\n"
     ]
    }
   ],
   "source": [
    "#float to int\n",
    "arr = np.array([[1.2,2.3,3.4],[4.5,5.6,6.7]])\n",
    "print(arr.astype('i'))\n",
    "print(arr.dtype)"
   ]
  },
  {
   "cell_type": "code",
   "execution_count": 30,
   "id": "b486eb99-b141-4d83-9825-3633218ce82d",
   "metadata": {},
   "outputs": [
    {
     "name": "stdout",
     "output_type": "stream",
     "text": [
      "[False  True  True]\n",
      "int64\n"
     ]
    }
   ],
   "source": [
    "#int to bool\n",
    "arr = np.array([0,2,3])\n",
    "print(arr.astype('bool'))\n",
    "print(arr.dtype)"
   ]
  },
  {
   "cell_type": "code",
   "execution_count": 32,
   "id": "b0a7f06b-6bef-45e9-8e60-c01afa83156b",
   "metadata": {},
   "outputs": [
    {
     "name": "stdout",
     "output_type": "stream",
     "text": [
      "[1 2 3 4]\n"
     ]
    }
   ],
   "source": [
    "#copy()method\n",
    "arr = np.array([1,2,3,4,])\n",
    "x = arr.copy()\n",
    "print(x)"
   ]
  },
  {
   "cell_type": "code",
   "execution_count": 34,
   "id": "52e83c4d-a8f7-471b-bcde-df75e30d8be4",
   "metadata": {},
   "outputs": [
    {
     "name": "stdout",
     "output_type": "stream",
     "text": [
      "[43  2  3  4]\n"
     ]
    }
   ],
   "source": [
    "#changing index position\n",
    "arr[0] =43\n",
    "print(arr)"
   ]
  },
  {
   "cell_type": "code",
   "execution_count": 36,
   "id": "56cebfc5-4a90-4b16-8a5f-adb5b1dd17a4",
   "metadata": {},
   "outputs": [
    {
     "name": "stdout",
     "output_type": "stream",
     "text": [
      "[1 2 3 4]\n"
     ]
    }
   ],
   "source": [
    "#view()\n",
    "arr = np.array([1,2,3,4,])\n",
    "y = arr.view()\n",
    "print(y)"
   ]
  },
  {
   "cell_type": "code",
   "execution_count": 38,
   "id": "a0472018-e700-40fa-8966-d5a85bd52e2c",
   "metadata": {},
   "outputs": [
    {
     "name": "stdout",
     "output_type": "stream",
     "text": [
      "[[1 2 3]\n",
      " [2 4 5]]\n"
     ]
    },
    {
     "data": {
      "text/plain": [
       "(2, 3)"
      ]
     },
     "execution_count": 38,
     "metadata": {},
     "output_type": "execute_result"
    }
   ],
   "source": [
    "#shape \n",
    "arr = np.array([[1,2,3],[2,4,5]])\n",
    "print(arr)\n",
    "arr.shape"
   ]
  },
  {
   "cell_type": "code",
   "execution_count": 46,
   "id": "99361d11-8867-429b-9f38-a8fee1ff1964",
   "metadata": {},
   "outputs": [
    {
     "name": "stdout",
     "output_type": "stream",
     "text": [
      "[[1 2 3]\n",
      " [4 5 6]]\n"
     ]
    }
   ],
   "source": [
    "##Reshaping of an array\n",
    "#converting 1D array to 2D\n",
    "arr = np.array([1,2,3,4,5,6,#])\n",
    "print(arr.reshape(2,3))"
   ]
  },
  {
   "cell_type": "code",
   "execution_count": 52,
   "id": "f03ea0a9-63ae-415e-8f59-218d14a7b24a",
   "metadata": {},
   "outputs": [
    {
     "name": "stdout",
     "output_type": "stream",
     "text": [
      "[[[1 2]\n",
      "  [3 4]]\n",
      "\n",
      " [[5 6]\n",
      "  [7 8]]]\n"
     ]
    }
   ],
   "source": [
    "#1D to 3D\n",
    "x = np.array([1,2,3,4,5,6,7,8])\n",
    "print(x.reshape(2,2,2))"
   ]
  },
  {
   "cell_type": "code",
   "execution_count": 54,
   "id": "1064854a-8aee-4ad5-b10f-17797054421e",
   "metadata": {},
   "outputs": [
    {
     "name": "stdout",
     "output_type": "stream",
     "text": [
      "[[ 6  8]\n",
      " [10 12]]\n"
     ]
    }
   ],
   "source": [
    "#addition of two arrays\n",
    "x = np.array([[1,2],[3,4]])\n",
    "y = np.array([[5,6],[7,8]])\n",
    "print(np.add(x,y))"
   ]
  },
  {
   "cell_type": "code",
   "execution_count": 56,
   "id": "d2a4a0d3-4303-4a13-b453-046057347683",
   "metadata": {},
   "outputs": [
    {
     "name": "stdout",
     "output_type": "stream",
     "text": [
      "[[-4 -4]\n",
      " [-4 -4]]\n"
     ]
    }
   ],
   "source": [
    "#subtraction\n",
    "print(np.subtract(x,y))"
   ]
  },
  {
   "cell_type": "code",
   "execution_count": 58,
   "id": "ec22c002-dfba-4bef-b6e2-033ee79e1056",
   "metadata": {},
   "outputs": [
    {
     "name": "stdout",
     "output_type": "stream",
     "text": [
      "[[ 5 12]\n",
      " [21 32]]\n"
     ]
    }
   ],
   "source": [
    "#multiplication\n",
    "print(np.multiply(x,y))"
   ]
  },
  {
   "cell_type": "code",
   "execution_count": 60,
   "id": "ce7536b4-fab0-4e53-8b6e-e62f695437e6",
   "metadata": {},
   "outputs": [
    {
     "name": "stdout",
     "output_type": "stream",
     "text": [
      "[[0.2        0.33333333]\n",
      " [0.42857143 0.5       ]]\n"
     ]
    }
   ],
   "source": [
    "#division\n",
    "print(np.divide(x,y))"
   ]
  },
  {
   "cell_type": "code",
   "execution_count": 62,
   "id": "57b17b47-4fc4-4fe1-b546-2604b0ba7168",
   "metadata": {},
   "outputs": [
    {
     "name": "stdout",
     "output_type": "stream",
     "text": [
      "[[ 2.71828183  7.3890561 ]\n",
      " [20.08553692 54.59815003]]\n",
      "[[ 148.4131591   403.42879349]\n",
      " [1096.63315843 2980.95798704]]\n"
     ]
    }
   ],
   "source": [
    "#exponential\n",
    "print(np.exp(x))\n",
    "print(np.exp(y))"
   ]
  },
  {
   "cell_type": "code",
   "execution_count": 64,
   "id": "9e1d3069-b7e8-4a9f-8e59-143438ae4d8e",
   "metadata": {},
   "outputs": [
    {
     "name": "stdout",
     "output_type": "stream",
     "text": [
      "[1 2 3 8 9]\n"
     ]
    }
   ],
   "source": [
    "#sort()\n",
    "arr = np.array([9,8,3,2,1])\n",
    "print(np.sort(arr))"
   ]
  },
  {
   "cell_type": "code",
   "execution_count": 66,
   "id": "1fd3ea76-69bd-46d3-8789-04106af94f81",
   "metadata": {},
   "outputs": [
    {
     "name": "stdout",
     "output_type": "stream",
     "text": [
      "[2 3 4 5]\n",
      "[6 7]\n",
      "[1 2 3 4 5]\n"
     ]
    }
   ],
   "source": [
    "#slicing\n",
    "arr = np.array([1, 2, 3, 4, 5, 6, 7])\n",
    "print(arr[1:5])\n",
    "\n",
    "print(arr[5:])\n",
    "\n",
    "print(arr[:5])\n"
   ]
  },
  {
   "cell_type": "code",
   "execution_count": 68,
   "id": "06c7cb2d-6f28-4440-912e-a13128987a64",
   "metadata": {},
   "outputs": [
    {
     "name": "stdout",
     "output_type": "stream",
     "text": [
      "[1 2 3 4 5 6]\n",
      "[1 2 3]\n",
      "[2 3]\n"
     ]
    }
   ],
   "source": [
    "#negative\n",
    "arr = np.array([1, 2, 3, 4, 5, 6, 7])\n",
    "print(arr[:-1])\n",
    "\n",
    "print(arr[:-4])\n",
    "\n",
    "print(arr[-6:-4])"
   ]
  },
  {
   "cell_type": "code",
   "execution_count": null,
   "id": "9bc5ef36-593b-4cca-9427-8007e4b2b1fd",
   "metadata": {},
   "outputs": [],
   "source": []
  }
 ],
 "metadata": {
  "kernelspec": {
   "display_name": "Python 3 (ipykernel)",
   "language": "python",
   "name": "python3"
  },
  "language_info": {
   "codemirror_mode": {
    "name": "ipython",
    "version": 3
   },
   "file_extension": ".py",
   "mimetype": "text/x-python",
   "name": "python",
   "nbconvert_exporter": "python",
   "pygments_lexer": "ipython3",
   "version": "3.12.4"
  }
 },
 "nbformat": 4,
 "nbformat_minor": 5
}
